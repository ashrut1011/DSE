{
 "cells": [
  {
   "cell_type": "code",
   "execution_count": 1,
   "id": "2c6d78a7",
   "metadata": {},
   "outputs": [],
   "source": [
    "import pandas as pd\n",
    "import numpy as np\n",
    "import matplotlib.pyplot as plt\n",
    "import seaborn as sns\n",
    "import random\n",
    "\n",
    "from sklearn.linear_model import LinearRegression\n",
    "from sklearn.model_selection import train_test_split\n",
    "from sklearn import metrics"
   ]
  },
  {
   "cell_type": "markdown",
   "id": "0af4ff81",
   "metadata": {},
   "source": [
    "# Q1"
   ]
  },
  {
   "cell_type": "markdown",
   "id": "650e5ab4",
   "metadata": {},
   "source": [
    "## (a) Sample X-Y"
   ]
  },
  {
   "cell_type": "markdown",
   "id": "2d11bef9",
   "metadata": {},
   "source": [
    "### Creating random dataset"
   ]
  },
  {
   "cell_type": "code",
   "execution_count": 18,
   "id": "e4bc3cad",
   "metadata": {},
   "outputs": [],
   "source": [
    "# This makes sure that everytime same RANDOM NUMBERS are generated.\n",
    "random.seed(123)\n",
    "n = 50\n",
    "\n",
    "X = np.random.uniform(0, 1, n)\n",
    "Y = 2 + 3*X + np.random.normal(0, 0.1, n)"
   ]
  },
  {
   "cell_type": "code",
   "execution_count": 19,
   "id": "2752aba6",
   "metadata": {},
   "outputs": [
    {
     "name": "stdout",
     "output_type": "stream",
     "text": [
      "[0.79532189 0.05858303 0.03361006 0.92319905 0.95968948 0.16571043\n",
      " 0.83288108 0.01460327 0.07314942 0.56540468 0.46319946 0.15281989\n",
      " 0.53122306 0.98297679 0.32075212 0.0842581  0.45999958 0.7562811\n",
      " 0.67068551 0.93049911 0.14157911 0.35162618 0.32579782 0.27291727\n",
      " 0.09161593 0.38356432 0.25142233 0.22556696 0.47045061 0.13501711\n",
      " 0.79460717 0.25369149 0.92488834 0.83016317 0.67640949 0.70794119\n",
      " 0.95939718 0.90034717 0.89300979 0.20737693 0.1508136  0.46286195\n",
      " 0.05252343 0.61531314 0.33338354 0.77613157 0.5326237  0.70499303\n",
      " 0.14223308 0.08001727]\n"
     ]
    }
   ],
   "source": [
    "print(X)"
   ]
  },
  {
   "cell_type": "code",
   "execution_count": 20,
   "id": "56a6023e",
   "metadata": {},
   "outputs": [
    {
     "name": "stdout",
     "output_type": "stream",
     "text": [
      "[4.31405386 2.32357215 2.20838133 4.81268932 4.64027311 2.69746113\n",
      " 4.41451295 2.08456432 2.17831677 3.67640719 3.37620416 2.52354647\n",
      " 3.54669901 5.18861512 2.98343458 2.38733889 3.1646135  4.11534794\n",
      " 4.23183964 4.74313612 2.53758486 3.04512794 3.13430381 2.73723572\n",
      " 2.14690357 3.14555419 2.81492227 2.76584042 3.47070604 2.36562193\n",
      " 4.26526447 2.70172083 4.89526431 4.69746685 4.07734726 4.13532138\n",
      " 4.91548483 4.65961594 4.58711454 2.61813655 2.35010669 3.46248189\n",
      " 2.10446194 3.74558828 3.03314489 4.41826444 3.62721271 4.24218306\n",
      " 2.3506006  2.17413639]\n"
     ]
    }
   ],
   "source": [
    "print(Y)"
   ]
  },
  {
   "cell_type": "code",
   "execution_count": 21,
   "id": "55603b70",
   "metadata": {
    "scrolled": true
   },
   "outputs": [
    {
     "data": {
      "text/html": [
       "<div>\n",
       "<style scoped>\n",
       "    .dataframe tbody tr th:only-of-type {\n",
       "        vertical-align: middle;\n",
       "    }\n",
       "\n",
       "    .dataframe tbody tr th {\n",
       "        vertical-align: top;\n",
       "    }\n",
       "\n",
       "    .dataframe thead th {\n",
       "        text-align: right;\n",
       "    }\n",
       "</style>\n",
       "<table border=\"1\" class=\"dataframe\">\n",
       "  <thead>\n",
       "    <tr style=\"text-align: right;\">\n",
       "      <th></th>\n",
       "      <th>X</th>\n",
       "      <th>Y</th>\n",
       "    </tr>\n",
       "  </thead>\n",
       "  <tbody>\n",
       "    <tr>\n",
       "      <th>0</th>\n",
       "      <td>0.795322</td>\n",
       "      <td>4.314054</td>\n",
       "    </tr>\n",
       "    <tr>\n",
       "      <th>1</th>\n",
       "      <td>0.058583</td>\n",
       "      <td>2.323572</td>\n",
       "    </tr>\n",
       "    <tr>\n",
       "      <th>2</th>\n",
       "      <td>0.033610</td>\n",
       "      <td>2.208381</td>\n",
       "    </tr>\n",
       "    <tr>\n",
       "      <th>3</th>\n",
       "      <td>0.923199</td>\n",
       "      <td>4.812689</td>\n",
       "    </tr>\n",
       "    <tr>\n",
       "      <th>4</th>\n",
       "      <td>0.959689</td>\n",
       "      <td>4.640273</td>\n",
       "    </tr>\n",
       "    <tr>\n",
       "      <th>5</th>\n",
       "      <td>0.165710</td>\n",
       "      <td>2.697461</td>\n",
       "    </tr>\n",
       "    <tr>\n",
       "      <th>6</th>\n",
       "      <td>0.832881</td>\n",
       "      <td>4.414513</td>\n",
       "    </tr>\n",
       "    <tr>\n",
       "      <th>7</th>\n",
       "      <td>0.014603</td>\n",
       "      <td>2.084564</td>\n",
       "    </tr>\n",
       "    <tr>\n",
       "      <th>8</th>\n",
       "      <td>0.073149</td>\n",
       "      <td>2.178317</td>\n",
       "    </tr>\n",
       "    <tr>\n",
       "      <th>9</th>\n",
       "      <td>0.565405</td>\n",
       "      <td>3.676407</td>\n",
       "    </tr>\n",
       "    <tr>\n",
       "      <th>10</th>\n",
       "      <td>0.463199</td>\n",
       "      <td>3.376204</td>\n",
       "    </tr>\n",
       "    <tr>\n",
       "      <th>11</th>\n",
       "      <td>0.152820</td>\n",
       "      <td>2.523546</td>\n",
       "    </tr>\n",
       "    <tr>\n",
       "      <th>12</th>\n",
       "      <td>0.531223</td>\n",
       "      <td>3.546699</td>\n",
       "    </tr>\n",
       "    <tr>\n",
       "      <th>13</th>\n",
       "      <td>0.982977</td>\n",
       "      <td>5.188615</td>\n",
       "    </tr>\n",
       "    <tr>\n",
       "      <th>14</th>\n",
       "      <td>0.320752</td>\n",
       "      <td>2.983435</td>\n",
       "    </tr>\n",
       "    <tr>\n",
       "      <th>15</th>\n",
       "      <td>0.084258</td>\n",
       "      <td>2.387339</td>\n",
       "    </tr>\n",
       "    <tr>\n",
       "      <th>16</th>\n",
       "      <td>0.460000</td>\n",
       "      <td>3.164613</td>\n",
       "    </tr>\n",
       "    <tr>\n",
       "      <th>17</th>\n",
       "      <td>0.756281</td>\n",
       "      <td>4.115348</td>\n",
       "    </tr>\n",
       "    <tr>\n",
       "      <th>18</th>\n",
       "      <td>0.670686</td>\n",
       "      <td>4.231840</td>\n",
       "    </tr>\n",
       "    <tr>\n",
       "      <th>19</th>\n",
       "      <td>0.930499</td>\n",
       "      <td>4.743136</td>\n",
       "    </tr>\n",
       "    <tr>\n",
       "      <th>20</th>\n",
       "      <td>0.141579</td>\n",
       "      <td>2.537585</td>\n",
       "    </tr>\n",
       "    <tr>\n",
       "      <th>21</th>\n",
       "      <td>0.351626</td>\n",
       "      <td>3.045128</td>\n",
       "    </tr>\n",
       "    <tr>\n",
       "      <th>22</th>\n",
       "      <td>0.325798</td>\n",
       "      <td>3.134304</td>\n",
       "    </tr>\n",
       "    <tr>\n",
       "      <th>23</th>\n",
       "      <td>0.272917</td>\n",
       "      <td>2.737236</td>\n",
       "    </tr>\n",
       "    <tr>\n",
       "      <th>24</th>\n",
       "      <td>0.091616</td>\n",
       "      <td>2.146904</td>\n",
       "    </tr>\n",
       "    <tr>\n",
       "      <th>25</th>\n",
       "      <td>0.383564</td>\n",
       "      <td>3.145554</td>\n",
       "    </tr>\n",
       "    <tr>\n",
       "      <th>26</th>\n",
       "      <td>0.251422</td>\n",
       "      <td>2.814922</td>\n",
       "    </tr>\n",
       "    <tr>\n",
       "      <th>27</th>\n",
       "      <td>0.225567</td>\n",
       "      <td>2.765840</td>\n",
       "    </tr>\n",
       "    <tr>\n",
       "      <th>28</th>\n",
       "      <td>0.470451</td>\n",
       "      <td>3.470706</td>\n",
       "    </tr>\n",
       "    <tr>\n",
       "      <th>29</th>\n",
       "      <td>0.135017</td>\n",
       "      <td>2.365622</td>\n",
       "    </tr>\n",
       "    <tr>\n",
       "      <th>30</th>\n",
       "      <td>0.794607</td>\n",
       "      <td>4.265264</td>\n",
       "    </tr>\n",
       "    <tr>\n",
       "      <th>31</th>\n",
       "      <td>0.253691</td>\n",
       "      <td>2.701721</td>\n",
       "    </tr>\n",
       "    <tr>\n",
       "      <th>32</th>\n",
       "      <td>0.924888</td>\n",
       "      <td>4.895264</td>\n",
       "    </tr>\n",
       "    <tr>\n",
       "      <th>33</th>\n",
       "      <td>0.830163</td>\n",
       "      <td>4.697467</td>\n",
       "    </tr>\n",
       "    <tr>\n",
       "      <th>34</th>\n",
       "      <td>0.676409</td>\n",
       "      <td>4.077347</td>\n",
       "    </tr>\n",
       "    <tr>\n",
       "      <th>35</th>\n",
       "      <td>0.707941</td>\n",
       "      <td>4.135321</td>\n",
       "    </tr>\n",
       "    <tr>\n",
       "      <th>36</th>\n",
       "      <td>0.959397</td>\n",
       "      <td>4.915485</td>\n",
       "    </tr>\n",
       "    <tr>\n",
       "      <th>37</th>\n",
       "      <td>0.900347</td>\n",
       "      <td>4.659616</td>\n",
       "    </tr>\n",
       "    <tr>\n",
       "      <th>38</th>\n",
       "      <td>0.893010</td>\n",
       "      <td>4.587115</td>\n",
       "    </tr>\n",
       "    <tr>\n",
       "      <th>39</th>\n",
       "      <td>0.207377</td>\n",
       "      <td>2.618137</td>\n",
       "    </tr>\n",
       "    <tr>\n",
       "      <th>40</th>\n",
       "      <td>0.150814</td>\n",
       "      <td>2.350107</td>\n",
       "    </tr>\n",
       "    <tr>\n",
       "      <th>41</th>\n",
       "      <td>0.462862</td>\n",
       "      <td>3.462482</td>\n",
       "    </tr>\n",
       "    <tr>\n",
       "      <th>42</th>\n",
       "      <td>0.052523</td>\n",
       "      <td>2.104462</td>\n",
       "    </tr>\n",
       "    <tr>\n",
       "      <th>43</th>\n",
       "      <td>0.615313</td>\n",
       "      <td>3.745588</td>\n",
       "    </tr>\n",
       "    <tr>\n",
       "      <th>44</th>\n",
       "      <td>0.333384</td>\n",
       "      <td>3.033145</td>\n",
       "    </tr>\n",
       "    <tr>\n",
       "      <th>45</th>\n",
       "      <td>0.776132</td>\n",
       "      <td>4.418264</td>\n",
       "    </tr>\n",
       "    <tr>\n",
       "      <th>46</th>\n",
       "      <td>0.532624</td>\n",
       "      <td>3.627213</td>\n",
       "    </tr>\n",
       "    <tr>\n",
       "      <th>47</th>\n",
       "      <td>0.704993</td>\n",
       "      <td>4.242183</td>\n",
       "    </tr>\n",
       "    <tr>\n",
       "      <th>48</th>\n",
       "      <td>0.142233</td>\n",
       "      <td>2.350601</td>\n",
       "    </tr>\n",
       "    <tr>\n",
       "      <th>49</th>\n",
       "      <td>0.080017</td>\n",
       "      <td>2.174136</td>\n",
       "    </tr>\n",
       "  </tbody>\n",
       "</table>\n",
       "</div>"
      ],
      "text/plain": [
       "           X         Y\n",
       "0   0.795322  4.314054\n",
       "1   0.058583  2.323572\n",
       "2   0.033610  2.208381\n",
       "3   0.923199  4.812689\n",
       "4   0.959689  4.640273\n",
       "5   0.165710  2.697461\n",
       "6   0.832881  4.414513\n",
       "7   0.014603  2.084564\n",
       "8   0.073149  2.178317\n",
       "9   0.565405  3.676407\n",
       "10  0.463199  3.376204\n",
       "11  0.152820  2.523546\n",
       "12  0.531223  3.546699\n",
       "13  0.982977  5.188615\n",
       "14  0.320752  2.983435\n",
       "15  0.084258  2.387339\n",
       "16  0.460000  3.164613\n",
       "17  0.756281  4.115348\n",
       "18  0.670686  4.231840\n",
       "19  0.930499  4.743136\n",
       "20  0.141579  2.537585\n",
       "21  0.351626  3.045128\n",
       "22  0.325798  3.134304\n",
       "23  0.272917  2.737236\n",
       "24  0.091616  2.146904\n",
       "25  0.383564  3.145554\n",
       "26  0.251422  2.814922\n",
       "27  0.225567  2.765840\n",
       "28  0.470451  3.470706\n",
       "29  0.135017  2.365622\n",
       "30  0.794607  4.265264\n",
       "31  0.253691  2.701721\n",
       "32  0.924888  4.895264\n",
       "33  0.830163  4.697467\n",
       "34  0.676409  4.077347\n",
       "35  0.707941  4.135321\n",
       "36  0.959397  4.915485\n",
       "37  0.900347  4.659616\n",
       "38  0.893010  4.587115\n",
       "39  0.207377  2.618137\n",
       "40  0.150814  2.350107\n",
       "41  0.462862  3.462482\n",
       "42  0.052523  2.104462\n",
       "43  0.615313  3.745588\n",
       "44  0.333384  3.033145\n",
       "45  0.776132  4.418264\n",
       "46  0.532624  3.627213\n",
       "47  0.704993  4.242183\n",
       "48  0.142233  2.350601\n",
       "49  0.080017  2.174136"
      ]
     },
     "execution_count": 21,
     "metadata": {},
     "output_type": "execute_result"
    }
   ],
   "source": [
    "sample = {'X' : X,\n",
    "       'Y': Y}\n",
    "df = pd.DataFrame(sample)\n",
    "\n",
    "# To make X and Y to 2D array\n",
    "X = [[x] for x in X]\n",
    "Y = [[y] for y in Y]\n",
    "\n",
    "X_train, X_test, Y_train, Y_test = train_test_split(X, Y, test_size=1/4, random_state=0)\n",
    "\n",
    "\n",
    "df"
   ]
  },
  {
   "cell_type": "code",
   "execution_count": 22,
   "id": "596718d6",
   "metadata": {},
   "outputs": [],
   "source": [
    "# Creates an object of LinearRegression\n",
    "slr = LinearRegression()"
   ]
  },
  {
   "cell_type": "markdown",
   "id": "4ffccbe5",
   "metadata": {},
   "source": [
    "#### Training the Data"
   ]
  },
  {
   "cell_type": "code",
   "execution_count": 23,
   "id": "9a54712c",
   "metadata": {
    "scrolled": false
   },
   "outputs": [
    {
     "data": {
      "text/plain": [
       "LinearRegression()"
      ]
     },
     "execution_count": 23,
     "metadata": {},
     "output_type": "execute_result"
    }
   ],
   "source": [
    "slr.fit(X_train, Y_train)"
   ]
  },
  {
   "cell_type": "markdown",
   "id": "6f34c2e6",
   "metadata": {},
   "source": [
    "#### SLR coefficients"
   ]
  },
  {
   "cell_type": "code",
   "execution_count": 24,
   "id": "95304cfc",
   "metadata": {},
   "outputs": [
    {
     "data": {
      "text/plain": [
       "array([[3.02606419]])"
      ]
     },
     "execution_count": 24,
     "metadata": {},
     "output_type": "execute_result"
    }
   ],
   "source": [
    "slr.coef_"
   ]
  },
  {
   "cell_type": "code",
   "execution_count": 25,
   "id": "62a258da",
   "metadata": {},
   "outputs": [
    {
     "data": {
      "text/plain": [
       "array([1.99149705])"
      ]
     },
     "execution_count": 25,
     "metadata": {},
     "output_type": "execute_result"
    }
   ],
   "source": [
    "slr.intercept_"
   ]
  },
  {
   "cell_type": "markdown",
   "id": "d61b10f8",
   "metadata": {},
   "source": [
    "#### Regression graph."
   ]
  },
  {
   "cell_type": "code",
   "execution_count": 26,
   "id": "08524a9e",
   "metadata": {},
   "outputs": [
    {
     "data": {
      "image/png": "[encoded data removed]",
      "text/plain": [
       "<Figure size 640x480 with 1 Axes>"
      ]
     },
     "metadata": {},
     "output_type": "display_data"
    }
   ],
   "source": [
    "plt.scatter(X_train, Y_train, color = 'red')\n",
    "plt.plot(X_train, slr.predict(X_train), color='blue', linewidth=3)\n",
    "plt.show()"
   ]
  },
  {
   "cell_type": "code",
   "execution_count": 27,
   "id": "7e3037de",
   "metadata": {},
   "outputs": [
    {
     "data": {
      "image/png": "[encoded data removed]",
      "text/plain": [
       "<Figure size 640x480 with 1 Axes>"
      ]
     },
     "metadata": {},
     "output_type": "display_data"
    }
   ],
   "source": [
    "plt.scatter(X_test, Y_test, color = 'red')\n",
    "plt.plot(X_train, slr.predict(X_train), color='blue', linewidth=3)\n",
    "plt.show()"
   ]
  },
  {
   "cell_type": "markdown",
   "id": "bfff33a1",
   "metadata": {},
   "source": [
    "#### Predicting output for new Datapoint\n"
   ]
  },
  {
   "cell_type": "code",
   "execution_count": 29,
   "id": "bbccf994",
   "metadata": {
    "scrolled": true
   },
   "outputs": [
    {
     "data": {
      "text/plain": [
       "array([[4.4123484]])"
      ]
     },
     "execution_count": 29,
     "metadata": {},
     "output_type": "execute_result"
    }
   ],
   "source": [
    "new_data = [[0.8]]\n",
    "slr.predict(new_data)"
   ]
  },
  {
   "cell_type": "markdown",
   "id": "805080d3",
   "metadata": {},
   "source": [
    "#### SLR errors "
   ]
  },
  {
   "cell_type": "code",
   "execution_count": null,
   "id": "6ec7328d",
   "metadata": {},
   "outputs": [],
   "source": []
  },
  {
   "cell_type": "code",
   "execution_count": null,
   "id": "e8f61d39",
   "metadata": {},
   "outputs": [],
   "source": []
  },
  {
   "cell_type": "code",
   "execution_count": null,
   "id": "8d83f8e0",
   "metadata": {},
   "outputs": [],
   "source": []
  }
 ],
 "metadata": {
  "kernelspec": {
   "display_name": "Python 3 (ipykernel)",
   "language": "python",
   "name": "python3"
  },
  "language_info": {
   "codemirror_mode": {
    "name": "ipython",
    "version": 3
   },
   "file_extension": ".py",
   "mimetype": "text/x-python",
   "name": "python",
   "nbconvert_exporter": "python",
   "pygments_lexer": "ipython3",
   "version": "3.9.13"
  }
 },
 "nbformat": 4,
 "nbformat_minor": 5
}
