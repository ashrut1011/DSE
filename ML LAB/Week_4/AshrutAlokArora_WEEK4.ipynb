{
 "cells": [
  {
   "cell_type": "code",
   "execution_count": 1,
   "id": "2c6d78a7",
   "metadata": {},
   "outputs": [],
   "source": [
    "import pandas as pd\n",
    "import numpy as np\n",
    "import matplotlib.pyplot as plt\n",
    "import seaborn as sns\n",
    "import random\n",
    "\n",
    "from sklearn.linear_model import LinearRegression\n",
    "from sklearn.model_selection import train_test_split\n",
    "from sklearn.metrics import r2_score\n",
    "from sklearn.metrics import mean_absolute_error, mean_squared_error\n"
   ]
  },
  {
   "cell_type": "markdown",
   "id": "0af4ff81",
   "metadata": {},
   "source": [
    "# Q1"
   ]
  },
  {
   "cell_type": "markdown",
   "id": "650e5ab4",
   "metadata": {},
   "source": [
    "## (a) Sample X-Y"
   ]
  },
  {
   "cell_type": "markdown",
   "id": "2d11bef9",
   "metadata": {},
   "source": [
    "### Creating random dataset"
   ]
  },
  {
   "cell_type": "code",
   "execution_count": 2,
   "id": "e4bc3cad",
   "metadata": {},
   "outputs": [],
   "source": [
    "# This makes sure that everytime same RANDOM NUMBERS are generated.\n",
    "random.seed(123)\n",
    "n = 50\n",
    "\n",
    "X = np.random.uniform(0, 1, n)\n",
    "Y = 2 + 3*X + np.random.normal(0, 0.1, n)"
   ]
  },
  {
   "cell_type": "code",
   "execution_count": 3,
   "id": "55603b70",
   "metadata": {
    "scrolled": false
   },
   "outputs": [
    {
     "data": {
      "text/html": [
       "<div>\n",
       "<style scoped>\n",
       "    .dataframe tbody tr th:only-of-type {\n",
       "        vertical-align: middle;\n",
       "    }\n",
       "\n",
       "    .dataframe tbody tr th {\n",
       "        vertical-align: top;\n",
       "    }\n",
       "\n",
       "    .dataframe thead th {\n",
       "        text-align: right;\n",
       "    }\n",
       "</style>\n",
       "<table border=\"1\" class=\"dataframe\">\n",
       "  <thead>\n",
       "    <tr style=\"text-align: right;\">\n",
       "      <th></th>\n",
       "      <th>X</th>\n",
       "      <th>Y</th>\n",
       "    </tr>\n",
       "  </thead>\n",
       "  <tbody>\n",
       "    <tr>\n",
       "      <th>0</th>\n",
       "      <td>0.088650</td>\n",
       "      <td>2.248759</td>\n",
       "    </tr>\n",
       "    <tr>\n",
       "      <th>1</th>\n",
       "      <td>0.695466</td>\n",
       "      <td>4.137959</td>\n",
       "    </tr>\n",
       "    <tr>\n",
       "      <th>2</th>\n",
       "      <td>0.195120</td>\n",
       "      <td>2.493202</td>\n",
       "    </tr>\n",
       "    <tr>\n",
       "      <th>3</th>\n",
       "      <td>0.752524</td>\n",
       "      <td>4.218820</td>\n",
       "    </tr>\n",
       "    <tr>\n",
       "      <th>4</th>\n",
       "      <td>0.131094</td>\n",
       "      <td>2.529140</td>\n",
       "    </tr>\n",
       "  </tbody>\n",
       "</table>\n",
       "</div>"
      ],
      "text/plain": [
       "          X         Y\n",
       "0  0.088650  2.248759\n",
       "1  0.695466  4.137959\n",
       "2  0.195120  2.493202\n",
       "3  0.752524  4.218820\n",
       "4  0.131094  2.529140"
      ]
     },
     "execution_count": 3,
     "metadata": {},
     "output_type": "execute_result"
    }
   ],
   "source": [
    "sample = {'X' : X,\n",
    "       'Y': Y}\n",
    "\n",
    "df = pd.DataFrame(sample)\n",
    "\n",
    "# To make X and Y to 2D array\n",
    "X = np.array(X).reshape(-1,1)\n",
    "Y = np.array(Y).reshape(-1,1)\n",
    "# Splitting the dataset into the specified value\n",
    "X_train, X_test, Y_train, Y_test = train_test_split(X, Y, test_size=1/4, random_state=0)\n",
    "\n",
    "df.head()"
   ]
  },
  {
   "cell_type": "code",
   "execution_count": 4,
   "id": "596718d6",
   "metadata": {},
   "outputs": [],
   "source": [
    "# Creates an object of LinearRegression\n",
    "slr = LinearRegression()"
   ]
  },
  {
   "cell_type": "markdown",
   "id": "4ffccbe5",
   "metadata": {},
   "source": [
    "#### Training the Data"
   ]
  },
  {
   "cell_type": "code",
   "execution_count": 5,
   "id": "9a54712c",
   "metadata": {
    "scrolled": false
   },
   "outputs": [
    {
     "data": {
      "text/plain": [
       "LinearRegression()"
      ]
     },
     "execution_count": 5,
     "metadata": {},
     "output_type": "execute_result"
    }
   ],
   "source": [
    "slr.fit(X_train, Y_train)"
   ]
  },
  {
   "cell_type": "markdown",
   "id": "6f34c2e6",
   "metadata": {},
   "source": [
    "#### SLR coefficients"
   ]
  },
  {
   "cell_type": "code",
   "execution_count": 6,
   "id": "95304cfc",
   "metadata": {},
   "outputs": [
    {
     "data": {
      "text/plain": [
       "array([[2.87750495]])"
      ]
     },
     "execution_count": 6,
     "metadata": {},
     "output_type": "execute_result"
    }
   ],
   "source": [
    "m = slr.coef_\n",
    "m"
   ]
  },
  {
   "cell_type": "code",
   "execution_count": 7,
   "id": "62a258da",
   "metadata": {},
   "outputs": [
    {
     "data": {
      "text/plain": [
       "array([2.06688145])"
      ]
     },
     "execution_count": 7,
     "metadata": {},
     "output_type": "execute_result"
    }
   ],
   "source": [
    "c = slr.intercept_\n",
    "c"
   ]
  },
  {
   "cell_type": "markdown",
   "id": "d61b10f8",
   "metadata": {},
   "source": [
    "#### Regression graph."
   ]
  },
  {
   "cell_type": "markdown",
   "id": "255c1fbc",
   "metadata": {},
   "source": [
    "##### Trained Data "
   ]
  },
  {
   "cell_type": "code",
   "execution_count": 8,
   "id": "08524a9e",
   "metadata": {
    "scrolled": false
   },
   "outputs": [
    {
     "data": {
      "text/plain": [
       "array([3.31157   , 3.49132355, 3.93540205, 3.01677611, 2.83418365,\n",
       "       4.39145298, 4.37770291, 3.04574019, 3.21545379, 4.59873244,\n",
       "       2.29255343, 3.48356823, 3.80835896, 2.27960217, 4.04525803,\n",
       "       4.5984324 , 3.75481282, 4.40250007, 4.32611624, 4.14879457,\n",
       "       3.8473811 , 4.06808727, 3.65298968, 3.26935609, 4.7211165 ,\n",
       "       3.77061772, 3.11452571, 4.28791419, 4.42514759, 4.58669867,\n",
       "       2.53075483, 3.10801472, 3.73663081, 4.2322724 , 2.32197211,\n",
       "       4.32869623, 4.67126286])"
      ]
     },
     "execution_count": 8,
     "metadata": {},
     "output_type": "execute_result"
    }
   ],
   "source": [
    "# This is same as Y = mX + c\n",
    "Y_pred_train = slr.predict(X_train)\n",
    "Y_pred_train.flatten()"
   ]
  },
  {
   "cell_type": "code",
   "execution_count": 9,
   "id": "e5a649f1",
   "metadata": {
    "scrolled": true
   },
   "outputs": [
    {
     "data": {
      "image/png": "[encoded data removed]",
      "text/plain": [
       "<Figure size 432x288 with 1 Axes>"
      ]
     },
     "metadata": {
      "needs_background": "light"
     },
     "output_type": "display_data"
    }
   ],
   "source": [
    "plt.scatter(X_train, Y_train, color = 'red')\n",
    "plt.plot(X_train, Y_pred_train, color='blue', linewidth=3)\n",
    "\n",
    "plt.xlabel('Actual')\n",
    "plt.ylabel('Predicted')\n",
    "plt.title('Actual VS Predicted')\n",
    "plt.show()"
   ]
  },
  {
   "cell_type": "markdown",
   "id": "0f8d3074",
   "metadata": {},
   "source": [
    "###### R^2 test"
   ]
  },
  {
   "cell_type": "code",
   "execution_count": 10,
   "id": "3838ba65",
   "metadata": {},
   "outputs": [
    {
     "data": {
      "text/plain": [
       "0.9787305247796177"
      ]
     },
     "execution_count": 10,
     "metadata": {},
     "output_type": "execute_result"
    }
   ],
   "source": [
    "r2_score(Y_train, Y_pred_train)"
   ]
  },
  {
   "cell_type": "markdown",
   "id": "70e38986",
   "metadata": {},
   "source": [
    "##### Tested Data"
   ]
  },
  {
   "cell_type": "code",
   "execution_count": 11,
   "id": "f4054937",
   "metadata": {},
   "outputs": [
    {
     "data": {
      "text/plain": [
       "array([3.00329623, 4.86932224, 2.57635504, 3.81797684, 2.62834043,\n",
       "       3.77094567, 2.17803039, 4.70002992, 4.49231671, 2.44410648,\n",
       "       3.40370126, 4.24973667, 4.38165155])"
      ]
     },
     "execution_count": 11,
     "metadata": {},
     "output_type": "execute_result"
    }
   ],
   "source": [
    "Y_pred_test = slr.predict(X_test)\n",
    "Y_pred_test.flatten()"
   ]
  },
  {
   "cell_type": "code",
   "execution_count": 12,
   "id": "7e3037de",
   "metadata": {
    "scrolled": false
   },
   "outputs": [
    {
     "data": {
      "image/png": "[encoded data removed]",
      "text/plain": [
       "<Figure size 432x288 with 1 Axes>"
      ]
     },
     "metadata": {
      "needs_background": "light"
     },
     "output_type": "display_data"
    }
   ],
   "source": [
    "plt.scatter(X_test, Y_test, color = 'red')\n",
    "plt.plot(X_test, Y_pred_test, color='blue', linewidth=3)\n",
    "\n",
    "plt.xlabel('Actual')\n",
    "plt.ylabel('Predicted')\n",
    "plt.title('Actual VS Predicted')\n",
    "plt.show()"
   ]
  },
  {
   "cell_type": "markdown",
   "id": "d6edfee0",
   "metadata": {},
   "source": [
    "###### R^2 test"
   ]
  },
  {
   "cell_type": "code",
   "execution_count": 13,
   "id": "7c8f09c9",
   "metadata": {},
   "outputs": [
    {
     "data": {
      "text/plain": [
       "0.9884096731041729"
      ]
     },
     "execution_count": 13,
     "metadata": {},
     "output_type": "execute_result"
    }
   ],
   "source": [
    "r2_score(Y_test, Y_pred_test)"
   ]
  },
  {
   "cell_type": "markdown",
   "id": "bfff33a1",
   "metadata": {},
   "source": [
    "#### Predicting output for new Datapoint\n"
   ]
  },
  {
   "cell_type": "code",
   "execution_count": 14,
   "id": "bbccf994",
   "metadata": {
    "scrolled": true
   },
   "outputs": [
    {
     "data": {
      "text/plain": [
       "array([[3.43559258]])"
      ]
     },
     "execution_count": 14,
     "metadata": {},
     "output_type": "execute_result"
    }
   ],
   "source": [
    "new_data = [[0.475659]]\n",
    "slr.predict(new_data)"
   ]
  },
  {
   "cell_type": "code",
   "execution_count": 15,
   "id": "548fa074",
   "metadata": {
    "scrolled": false
   },
   "outputs": [
    {
     "data": {
      "text/html": [
       "<div>\n",
       "<style scoped>\n",
       "    .dataframe tbody tr th:only-of-type {\n",
       "        vertical-align: middle;\n",
       "    }\n",
       "\n",
       "    .dataframe tbody tr th {\n",
       "        vertical-align: top;\n",
       "    }\n",
       "\n",
       "    .dataframe thead th {\n",
       "        text-align: right;\n",
       "    }\n",
       "</style>\n",
       "<table border=\"1\" class=\"dataframe\">\n",
       "  <thead>\n",
       "    <tr style=\"text-align: right;\">\n",
       "      <th></th>\n",
       "      <th>Actual Value</th>\n",
       "      <th>Predicted Value</th>\n",
       "      <th>difference</th>\n",
       "    </tr>\n",
       "  </thead>\n",
       "  <tbody>\n",
       "    <tr>\n",
       "      <th>0</th>\n",
       "      <td>3.008547</td>\n",
       "      <td>3.003296</td>\n",
       "      <td>0.005251</td>\n",
       "    </tr>\n",
       "    <tr>\n",
       "      <th>1</th>\n",
       "      <td>4.933596</td>\n",
       "      <td>4.869322</td>\n",
       "      <td>0.064274</td>\n",
       "    </tr>\n",
       "    <tr>\n",
       "      <th>2</th>\n",
       "      <td>2.745440</td>\n",
       "      <td>2.576355</td>\n",
       "      <td>0.169085</td>\n",
       "    </tr>\n",
       "    <tr>\n",
       "      <th>3</th>\n",
       "      <td>3.933568</td>\n",
       "      <td>3.817977</td>\n",
       "      <td>0.115591</td>\n",
       "    </tr>\n",
       "    <tr>\n",
       "      <th>4</th>\n",
       "      <td>2.493202</td>\n",
       "      <td>2.628340</td>\n",
       "      <td>-0.135139</td>\n",
       "    </tr>\n",
       "    <tr>\n",
       "      <th>5</th>\n",
       "      <td>3.876762</td>\n",
       "      <td>3.770946</td>\n",
       "      <td>0.105817</td>\n",
       "    </tr>\n",
       "    <tr>\n",
       "      <th>6</th>\n",
       "      <td>2.139829</td>\n",
       "      <td>2.178030</td>\n",
       "      <td>-0.038201</td>\n",
       "    </tr>\n",
       "    <tr>\n",
       "      <th>7</th>\n",
       "      <td>4.817548</td>\n",
       "      <td>4.700030</td>\n",
       "      <td>0.117518</td>\n",
       "    </tr>\n",
       "    <tr>\n",
       "      <th>8</th>\n",
       "      <td>4.630275</td>\n",
       "      <td>4.492317</td>\n",
       "      <td>0.137958</td>\n",
       "    </tr>\n",
       "    <tr>\n",
       "      <th>9</th>\n",
       "      <td>2.529140</td>\n",
       "      <td>2.444106</td>\n",
       "      <td>0.085033</td>\n",
       "    </tr>\n",
       "    <tr>\n",
       "      <th>10</th>\n",
       "      <td>3.303281</td>\n",
       "      <td>3.403701</td>\n",
       "      <td>-0.100420</td>\n",
       "    </tr>\n",
       "    <tr>\n",
       "      <th>11</th>\n",
       "      <td>4.290238</td>\n",
       "      <td>4.249737</td>\n",
       "      <td>0.040501</td>\n",
       "    </tr>\n",
       "    <tr>\n",
       "      <th>12</th>\n",
       "      <td>4.433195</td>\n",
       "      <td>4.381652</td>\n",
       "      <td>0.051543</td>\n",
       "    </tr>\n",
       "  </tbody>\n",
       "</table>\n",
       "</div>"
      ],
      "text/plain": [
       "    Actual Value  Predicted Value  difference\n",
       "0       3.008547         3.003296    0.005251\n",
       "1       4.933596         4.869322    0.064274\n",
       "2       2.745440         2.576355    0.169085\n",
       "3       3.933568         3.817977    0.115591\n",
       "4       2.493202         2.628340   -0.135139\n",
       "5       3.876762         3.770946    0.105817\n",
       "6       2.139829         2.178030   -0.038201\n",
       "7       4.817548         4.700030    0.117518\n",
       "8       4.630275         4.492317    0.137958\n",
       "9       2.529140         2.444106    0.085033\n",
       "10      3.303281         3.403701   -0.100420\n",
       "11      4.290238         4.249737    0.040501\n",
       "12      4.433195         4.381652    0.051543"
      ]
     },
     "execution_count": 15,
     "metadata": {},
     "output_type": "execute_result"
    }
   ],
   "source": [
    "# .ravel() is used to convert 2D arrays to 1D arrays\n",
    "\n",
    "pred_df = pd.DataFrame({\n",
    "    'Actual Value': Y_test.ravel(),\n",
    "    'Predicted Value': Y_pred_test.ravel(),\n",
    "    'difference': (Y_test - Y_pred_test).ravel()\n",
    "})\n",
    "pred_df"
   ]
  },
  {
   "cell_type": "markdown",
   "id": "3aee8144",
   "metadata": {},
   "source": [
    "##### The difference is very less so this shows that our model is pretty accurate"
   ]
  },
  {
   "cell_type": "markdown",
   "id": "805080d3",
   "metadata": {},
   "source": [
    "#### SLR errors (inbuilt funcs)"
   ]
  },
  {
   "cell_type": "code",
   "execution_count": 16,
   "id": "6ec7328d",
   "metadata": {},
   "outputs": [
    {
     "data": {
      "text/plain": [
       "0.08971778812551162"
      ]
     },
     "execution_count": 16,
     "metadata": {},
     "output_type": "execute_result"
    }
   ],
   "source": [
    "# Mean Absolute Error\n",
    "MAE = mean_absolute_error(Y_test, Y_pred_test)\n",
    "MAE"
   ]
  },
  {
   "cell_type": "code",
   "execution_count": 17,
   "id": "e8f61d39",
   "metadata": {},
   "outputs": [
    {
     "data": {
      "text/plain": [
       "0.010114109859141655"
      ]
     },
     "execution_count": 17,
     "metadata": {},
     "output_type": "execute_result"
    }
   ],
   "source": [
    "# Mean Squared Error\n",
    "MSE = mean_squared_error(Y_test, Y_pred_test)\n",
    "MSE"
   ]
  },
  {
   "cell_type": "code",
   "execution_count": 18,
   "id": "8d83f8e0",
   "metadata": {},
   "outputs": [
    {
     "data": {
      "text/plain": [
       "0.1314834281688415"
      ]
     },
     "execution_count": 18,
     "metadata": {},
     "output_type": "execute_result"
    }
   ],
   "source": [
    "# Sum of Squared Residuals\n",
    "SSR = ((Y_pred_test - Y_test)**2).sum()\n",
    "SSR"
   ]
  },
  {
   "cell_type": "markdown",
   "id": "d8cd49bb",
   "metadata": {},
   "source": [
    "#### SLR errors (manually computed)"
   ]
  },
  {
   "cell_type": "code",
   "execution_count": 19,
   "id": "4652b38e",
   "metadata": {},
   "outputs": [
    {
     "data": {
      "text/plain": [
       "0.08971778812551162"
      ]
     },
     "execution_count": 19,
     "metadata": {},
     "output_type": "execute_result"
    }
   ],
   "source": [
    "# Calculate Mean Absolute Error (MAE)\n",
    "mae = np.mean(np.abs(Y_test - Y_pred_test))\n",
    "mae"
   ]
  },
  {
   "cell_type": "code",
   "execution_count": 20,
   "id": "bc668163",
   "metadata": {},
   "outputs": [
    {
     "data": {
      "text/plain": [
       "0.010114109859141655"
      ]
     },
     "execution_count": 20,
     "metadata": {},
     "output_type": "execute_result"
    }
   ],
   "source": [
    "# Calculate Mean Squared Error (MSE)\n",
    "mse = np.mean((Y_test - Y_pred_test)**2)\n",
    "mse"
   ]
  },
  {
   "cell_type": "code",
   "execution_count": 21,
   "id": "023fe716",
   "metadata": {},
   "outputs": [
    {
     "data": {
      "text/plain": [
       "0.1314834281688415"
      ]
     },
     "execution_count": 21,
     "metadata": {},
     "output_type": "execute_result"
    }
   ],
   "source": [
    "# Calculate Sum of Squared Residuals (SSR)\n",
    "ssr = np.sum((Y_pred_test - Y_test)**2)\n",
    "ssr"
   ]
  },
  {
   "cell_type": "markdown",
   "id": "709fb943",
   "metadata": {},
   "source": [
    "###### We can see that the manually computed MAE, MSE, SSR are equal to the ones that we Calculated using inbuilt functions"
   ]
  },
  {
   "cell_type": "markdown",
   "id": "340ff20e",
   "metadata": {},
   "source": [
    "## (b) Student Marks"
   ]
  },
  {
   "cell_type": "markdown",
   "id": "ca6a2d6b",
   "metadata": {},
   "source": [
    "#### Generating Random Dataset"
   ]
  },
  {
   "cell_type": "code",
   "execution_count": 22,
   "id": "b4d1263f",
   "metadata": {},
   "outputs": [],
   "source": [
    "np.random.seed(123)\n",
    "\n",
    "n = 50\n",
    "\n",
    "X = np.random.uniform(0, 50, n)\n",
    "Y = 2 + 0.2*X + np.random.uniform(0, 1, n)\n",
    "Y = Y / np.max(Y) * 10"
   ]
  },
  {
   "cell_type": "code",
   "execution_count": 23,
   "id": "afe2ab59",
   "metadata": {
    "scrolled": true
   },
   "outputs": [
    {
     "data": {
      "text/html": [
       "<div>\n",
       "<style scoped>\n",
       "    .dataframe tbody tr th:only-of-type {\n",
       "        vertical-align: middle;\n",
       "    }\n",
       "\n",
       "    .dataframe tbody tr th {\n",
       "        vertical-align: top;\n",
       "    }\n",
       "\n",
       "    .dataframe thead th {\n",
       "        text-align: right;\n",
       "    }\n",
       "</style>\n",
       "<table border=\"1\" class=\"dataframe\">\n",
       "  <thead>\n",
       "    <tr style=\"text-align: right;\">\n",
       "      <th></th>\n",
       "      <th>X</th>\n",
       "      <th>Y</th>\n",
       "    </tr>\n",
       "  </thead>\n",
       "  <tbody>\n",
       "    <tr>\n",
       "      <th>0</th>\n",
       "      <td>34.823459</td>\n",
       "      <td>7.413880</td>\n",
       "    </tr>\n",
       "    <tr>\n",
       "      <th>1</th>\n",
       "      <td>14.306967</td>\n",
       "      <td>4.641353</td>\n",
       "    </tr>\n",
       "    <tr>\n",
       "      <th>2</th>\n",
       "      <td>11.342573</td>\n",
       "      <td>3.975344</td>\n",
       "    </tr>\n",
       "    <tr>\n",
       "      <th>3</th>\n",
       "      <td>27.565738</td>\n",
       "      <td>6.575734</td>\n",
       "    </tr>\n",
       "    <tr>\n",
       "      <th>4</th>\n",
       "      <td>35.973448</td>\n",
       "      <td>7.782834</td>\n",
       "    </tr>\n",
       "  </tbody>\n",
       "</table>\n",
       "</div>"
      ],
      "text/plain": [
       "           X         Y\n",
       "0  34.823459  7.413880\n",
       "1  14.306967  4.641353\n",
       "2  11.342573  3.975344\n",
       "3  27.565738  6.575734\n",
       "4  35.973448  7.782834"
      ]
     },
     "execution_count": 23,
     "metadata": {},
     "output_type": "execute_result"
    }
   ],
   "source": [
    "sample = {'X' : X,\n",
    "       'Y': Y}\n",
    "\n",
    "df = pd.DataFrame(sample)\n",
    "\n",
    "# To make X and Y to 2D array\n",
    "X = np.array(X).reshape(-1,1)\n",
    "Y = np.array(Y).reshape(-1,1)\n",
    "\n",
    "# Splitting the dataset into the specified value by test size\n",
    "X_train, X_test, Y_train, Y_test = train_test_split(X, Y, test_size=1/4, random_state=0)\n",
    "\n",
    "df.head()"
   ]
  },
  {
   "cell_type": "code",
   "execution_count": 24,
   "id": "32a1c3f5",
   "metadata": {},
   "outputs": [],
   "source": [
    "slr = LinearRegression()"
   ]
  },
  {
   "cell_type": "markdown",
   "id": "a7d9bf77",
   "metadata": {},
   "source": [
    "#### Training the data"
   ]
  },
  {
   "cell_type": "code",
   "execution_count": 25,
   "id": "6265ff57",
   "metadata": {},
   "outputs": [
    {
     "data": {
      "text/plain": [
       "LinearRegression()"
      ]
     },
     "execution_count": 25,
     "metadata": {},
     "output_type": "execute_result"
    }
   ],
   "source": [
    "slr.fit(X_train, Y_train)"
   ]
  },
  {
   "cell_type": "markdown",
   "id": "35608227",
   "metadata": {},
   "source": [
    "#### SLR Coeffs"
   ]
  },
  {
   "cell_type": "code",
   "execution_count": 26,
   "id": "4efdc5c1",
   "metadata": {},
   "outputs": [
    {
     "data": {
      "text/plain": [
       "array([[0.15864956]])"
      ]
     },
     "execution_count": 26,
     "metadata": {},
     "output_type": "execute_result"
    }
   ],
   "source": [
    "m = slr.coef_\n",
    "m"
   ]
  },
  {
   "cell_type": "code",
   "execution_count": 27,
   "id": "21bf4974",
   "metadata": {},
   "outputs": [
    {
     "data": {
      "text/plain": [
       "array([2.14992212])"
      ]
     },
     "execution_count": 27,
     "metadata": {},
     "output_type": "execute_result"
    }
   ],
   "source": [
    "c = slr.intercept_\n",
    "c"
   ]
  },
  {
   "cell_type": "markdown",
   "id": "30219733",
   "metadata": {},
   "source": [
    "#### Regression Graph"
   ]
  },
  {
   "cell_type": "markdown",
   "id": "c756c94a",
   "metadata": {},
   "source": [
    "##### Trained Data"
   ]
  },
  {
   "cell_type": "code",
   "execution_count": 28,
   "id": "4b058dfb",
   "metadata": {},
   "outputs": [
    {
     "data": {
      "text/plain": [
       "array([5.52781163, 6.36644183, 7.58231912, 5.30739952, 4.13665386,\n",
       "       6.27072653, 7.1551265 , 8.00405462, 2.88054255, 5.56773162,\n",
       "       3.5975338 , 4.6667823 , 7.18229392, 5.44052202, 5.96490397,\n",
       "       2.62331574, 4.71178668, 5.50620491, 3.54168936, 7.09941534,\n",
       "       7.01169461, 4.41971617, 5.62888691, 9.23671222, 7.88068854,\n",
       "       9.92981279, 6.99685283, 5.53194459, 8.88802135, 6.36863288,\n",
       "       5.2603858 , 6.13073063, 5.98158091, 6.52321453, 7.67464878,\n",
       "       9.96785368, 9.02190067])"
      ]
     },
     "execution_count": 28,
     "metadata": {},
     "output_type": "execute_result"
    }
   ],
   "source": [
    "Y_pred_train = slr.predict(X_train)\n",
    "Y_pred_train.flatten()"
   ]
  },
  {
   "cell_type": "code",
   "execution_count": 29,
   "id": "bbcde73d",
   "metadata": {
    "scrolled": true
   },
   "outputs": [
    {
     "data": {
      "image/png": "[encoded data removed]",
      "text/plain": [
       "<Figure size 432x288 with 1 Axes>"
      ]
     },
     "metadata": {
      "needs_background": "light"
     },
     "output_type": "display_data"
    }
   ],
   "source": [
    "plt.scatter(X_train, Y_train, color = 'red')\n",
    "plt.plot(X_train, Y_pred_train, color='blue', linewidth=3)\n",
    "\n",
    "plt.xlabel('Actual')\n",
    "plt.ylabel('Predicted')\n",
    "plt.title('Actual VS Predicted')\n",
    "plt.show()"
   ]
  },
  {
   "cell_type": "code",
   "execution_count": 30,
   "id": "654b078a",
   "metadata": {},
   "outputs": [
    {
     "data": {
      "text/plain": [
       "0.9870045825443696"
      ]
     },
     "execution_count": 30,
     "metadata": {},
     "output_type": "execute_result"
    }
   ],
   "source": [
    "r2_score(Y_train, Y_pred_train)"
   ]
  },
  {
   "cell_type": "markdown",
   "id": "443bf80b",
   "metadata": {},
   "source": [
    "##### Tested Data"
   ]
  },
  {
   "cell_type": "code",
   "execution_count": 31,
   "id": "eb8321d8",
   "metadata": {},
   "outputs": [
    {
     "data": {
      "text/plain": [
       "array([4.4798024 , 7.93309306, 4.87217427, 3.06706252, 3.94941634,\n",
       "       3.96061523, 9.63945093, 5.59024724, 7.89664822, 7.85709407,\n",
       "       6.06606842, 4.62692748, 5.01980276])"
      ]
     },
     "execution_count": 31,
     "metadata": {},
     "output_type": "execute_result"
    }
   ],
   "source": [
    "Y_pred_test = slr.predict(X_test)\n",
    "Y_pred_test.flatten()"
   ]
  },
  {
   "cell_type": "code",
   "execution_count": 32,
   "id": "864eeb4f",
   "metadata": {
    "scrolled": true
   },
   "outputs": [
    {
     "data": {
      "image/png": "[encoded data removed]",
      "text/plain": [
       "<Figure size 432x288 with 1 Axes>"
      ]
     },
     "metadata": {
      "needs_background": "light"
     },
     "output_type": "display_data"
    }
   ],
   "source": [
    "plt.scatter(X_test, Y_test, color = 'red')\n",
    "plt.plot(X_test, Y_pred_test, color='blue', linewidth=3)\n",
    "\n",
    "plt.xlabel('Actual')\n",
    "plt.ylabel('Predicted')\n",
    "plt.title('Actual VS Predicted')\n",
    "plt.show()"
   ]
  },
  {
   "cell_type": "code",
   "execution_count": 33,
   "id": "26450411",
   "metadata": {},
   "outputs": [
    {
     "data": {
      "text/plain": [
       "0.9900257493496825"
      ]
     },
     "execution_count": 33,
     "metadata": {},
     "output_type": "execute_result"
    }
   ],
   "source": [
    "r2_score(Y_test, Y_pred_test)"
   ]
  },
  {
   "cell_type": "code",
   "execution_count": 34,
   "id": "c00b896f",
   "metadata": {},
   "outputs": [
    {
     "data": {
      "text/html": [
       "<div>\n",
       "<style scoped>\n",
       "    .dataframe tbody tr th:only-of-type {\n",
       "        vertical-align: middle;\n",
       "    }\n",
       "\n",
       "    .dataframe tbody tr th {\n",
       "        vertical-align: top;\n",
       "    }\n",
       "\n",
       "    .dataframe thead th {\n",
       "        text-align: right;\n",
       "    }\n",
       "</style>\n",
       "<table border=\"1\" class=\"dataframe\">\n",
       "  <thead>\n",
       "    <tr style=\"text-align: right;\">\n",
       "      <th></th>\n",
       "      <th>Actual Value</th>\n",
       "      <th>Predicted Value</th>\n",
       "      <th>difference</th>\n",
       "    </tr>\n",
       "  </thead>\n",
       "  <tbody>\n",
       "    <tr>\n",
       "      <th>0</th>\n",
       "      <td>4.153757</td>\n",
       "      <td>4.479802</td>\n",
       "      <td>-0.326045</td>\n",
       "    </tr>\n",
       "    <tr>\n",
       "      <th>1</th>\n",
       "      <td>8.059451</td>\n",
       "      <td>7.933093</td>\n",
       "      <td>0.126358</td>\n",
       "    </tr>\n",
       "    <tr>\n",
       "      <th>2</th>\n",
       "      <td>4.978666</td>\n",
       "      <td>4.872174</td>\n",
       "      <td>0.106492</td>\n",
       "    </tr>\n",
       "    <tr>\n",
       "      <th>3</th>\n",
       "      <td>3.387777</td>\n",
       "      <td>3.067063</td>\n",
       "      <td>0.320714</td>\n",
       "    </tr>\n",
       "    <tr>\n",
       "      <th>4</th>\n",
       "      <td>3.975344</td>\n",
       "      <td>3.949416</td>\n",
       "      <td>0.025927</td>\n",
       "    </tr>\n",
       "    <tr>\n",
       "      <th>5</th>\n",
       "      <td>3.624466</td>\n",
       "      <td>3.960615</td>\n",
       "      <td>-0.336150</td>\n",
       "    </tr>\n",
       "    <tr>\n",
       "      <th>6</th>\n",
       "      <td>9.585371</td>\n",
       "      <td>9.639451</td>\n",
       "      <td>-0.054080</td>\n",
       "    </tr>\n",
       "    <tr>\n",
       "      <th>7</th>\n",
       "      <td>5.735850</td>\n",
       "      <td>5.590247</td>\n",
       "      <td>0.145602</td>\n",
       "    </tr>\n",
       "    <tr>\n",
       "      <th>8</th>\n",
       "      <td>8.055672</td>\n",
       "      <td>7.896648</td>\n",
       "      <td>0.159024</td>\n",
       "    </tr>\n",
       "    <tr>\n",
       "      <th>9</th>\n",
       "      <td>7.782834</td>\n",
       "      <td>7.857094</td>\n",
       "      <td>-0.074260</td>\n",
       "    </tr>\n",
       "    <tr>\n",
       "      <th>10</th>\n",
       "      <td>5.978063</td>\n",
       "      <td>6.066068</td>\n",
       "      <td>-0.088006</td>\n",
       "    </tr>\n",
       "    <tr>\n",
       "      <th>11</th>\n",
       "      <td>4.867024</td>\n",
       "      <td>4.626927</td>\n",
       "      <td>0.240097</td>\n",
       "    </tr>\n",
       "    <tr>\n",
       "      <th>12</th>\n",
       "      <td>5.038708</td>\n",
       "      <td>5.019803</td>\n",
       "      <td>0.018905</td>\n",
       "    </tr>\n",
       "  </tbody>\n",
       "</table>\n",
       "</div>"
      ],
      "text/plain": [
       "    Actual Value  Predicted Value  difference\n",
       "0       4.153757         4.479802   -0.326045\n",
       "1       8.059451         7.933093    0.126358\n",
       "2       4.978666         4.872174    0.106492\n",
       "3       3.387777         3.067063    0.320714\n",
       "4       3.975344         3.949416    0.025927\n",
       "5       3.624466         3.960615   -0.336150\n",
       "6       9.585371         9.639451   -0.054080\n",
       "7       5.735850         5.590247    0.145602\n",
       "8       8.055672         7.896648    0.159024\n",
       "9       7.782834         7.857094   -0.074260\n",
       "10      5.978063         6.066068   -0.088006\n",
       "11      4.867024         4.626927    0.240097\n",
       "12      5.038708         5.019803    0.018905"
      ]
     },
     "execution_count": 34,
     "metadata": {},
     "output_type": "execute_result"
    }
   ],
   "source": [
    "pred_df = pd.DataFrame({\n",
    "    'Actual Value': Y_test.ravel(),\n",
    "    'Predicted Value': Y_pred_test.ravel(),\n",
    "    'difference': (Y_test - Y_pred_test).ravel()\n",
    "})\n",
    "pred_df"
   ]
  },
  {
   "cell_type": "markdown",
   "id": "a1899843",
   "metadata": {},
   "source": [
    "#### The difference is very less so this shows that our model is pretty accurate"
   ]
  },
  {
   "cell_type": "markdown",
   "id": "36241c02",
   "metadata": {},
   "source": [
    "# Q2"
   ]
  },
  {
   "cell_type": "markdown",
   "id": "106e0866",
   "metadata": {},
   "source": [
    "## a) Student Marks"
   ]
  },
  {
   "cell_type": "code",
   "execution_count": 111,
   "id": "97738cfa",
   "metadata": {},
   "outputs": [
    {
     "data": {
      "text/html": [
       "<div>\n",
       "<style scoped>\n",
       "    .dataframe tbody tr th:only-of-type {\n",
       "        vertical-align: middle;\n",
       "    }\n",
       "\n",
       "    .dataframe tbody tr th {\n",
       "        vertical-align: top;\n",
       "    }\n",
       "\n",
       "    .dataframe thead th {\n",
       "        text-align: right;\n",
       "    }\n",
       "</style>\n",
       "<table border=\"1\" class=\"dataframe\">\n",
       "  <thead>\n",
       "    <tr style=\"text-align: right;\">\n",
       "      <th></th>\n",
       "      <th>Marks1</th>\n",
       "      <th>Marks2</th>\n",
       "      <th>Marks3</th>\n",
       "      <th>Grade</th>\n",
       "    </tr>\n",
       "  </thead>\n",
       "  <tbody>\n",
       "    <tr>\n",
       "      <th>0</th>\n",
       "      <td>45</td>\n",
       "      <td>0</td>\n",
       "      <td>30</td>\n",
       "      <td>6.774019</td>\n",
       "    </tr>\n",
       "    <tr>\n",
       "      <th>1</th>\n",
       "      <td>2</td>\n",
       "      <td>11</td>\n",
       "      <td>6</td>\n",
       "      <td>1.795978</td>\n",
       "    </tr>\n",
       "    <tr>\n",
       "      <th>2</th>\n",
       "      <td>28</td>\n",
       "      <td>34</td>\n",
       "      <td>9</td>\n",
       "      <td>6.661166</td>\n",
       "    </tr>\n",
       "    <tr>\n",
       "      <th>3</th>\n",
       "      <td>34</td>\n",
       "      <td>10</td>\n",
       "      <td>23</td>\n",
       "      <td>5.860491</td>\n",
       "    </tr>\n",
       "    <tr>\n",
       "      <th>4</th>\n",
       "      <td>38</td>\n",
       "      <td>22</td>\n",
       "      <td>14</td>\n",
       "      <td>7.046376</td>\n",
       "    </tr>\n",
       "  </tbody>\n",
       "</table>\n",
       "</div>"
      ],
      "text/plain": [
       "   Marks1  Marks2  Marks3     Grade\n",
       "0      45       0      30  6.774019\n",
       "1       2      11       6  1.795978\n",
       "2      28      34       9  6.661166\n",
       "3      34      10      23  5.860491\n",
       "4      38      22      14  7.046376"
      ]
     },
     "execution_count": 111,
     "metadata": {},
     "output_type": "execute_result"
    }
   ],
   "source": [
    "np.random.seed(123)\n",
    "\n",
    "n = 50\n",
    "\n",
    "X1 = np.random.randint(0, 51, n)\n",
    "X2 = np.random.randint(0, 51, n)\n",
    "X3 = np.random.randint(0, 51, n)\n",
    "\n",
    "Y = 2 + 0.5*X1 + 0.3*X2 + 0.1*X3 + np.random.uniform(0, 1, n)\n",
    "Y = Y / np.max(Y) * 10\n",
    "\n",
    "df = pd.DataFrame({'Marks1': X1, 'Marks2': X2, 'Marks3': X3, 'Grade': Y})\n",
    "\n",
    "X = df.drop(columns = 'Grade')\n",
    "y = df['Grade']\n",
    "\n",
    "X_train, X_test, Y_train, Y_test = train_test_split(X, Y, test_size=1/4, random_state=0)\n",
    "df.head()"
   ]
  },
  {
   "cell_type": "code",
   "execution_count": 112,
   "id": "b29e3f04",
   "metadata": {},
   "outputs": [],
   "source": [
    "mlr = LinearRegression()"
   ]
  },
  {
   "cell_type": "code",
   "execution_count": 113,
   "id": "a6059416",
   "metadata": {},
   "outputs": [
    {
     "data": {
      "text/plain": [
       "LinearRegression()"
      ]
     },
     "execution_count": 113,
     "metadata": {},
     "output_type": "execute_result"
    }
   ],
   "source": [
    "mlr.fit(X_train,Y_train)"
   ]
  },
  {
   "cell_type": "code",
   "execution_count": 114,
   "id": "280255b7",
   "metadata": {},
   "outputs": [
    {
     "data": {
      "text/plain": [
       "array([0.11933828, 0.07112262, 0.02408327])"
      ]
     },
     "execution_count": 114,
     "metadata": {},
     "output_type": "execute_result"
    }
   ],
   "source": [
    "m = mlr.coef_\n",
    "m"
   ]
  },
  {
   "cell_type": "code",
   "execution_count": 115,
   "id": "74fcf66b",
   "metadata": {},
   "outputs": [
    {
     "data": {
      "text/plain": [
       "0.6218907737878929"
      ]
     },
     "execution_count": 115,
     "metadata": {},
     "output_type": "execute_result"
    }
   ],
   "source": [
    "c = mlr.intercept_\n",
    "c"
   ]
  },
  {
   "cell_type": "code",
   "execution_count": 116,
   "id": "24434a1d",
   "metadata": {},
   "outputs": [
    {
     "data": {
      "text/plain": [
       "array([4.83086833, 5.68481183, 8.33901257, 8.48414825, 5.88514194,\n",
       "       6.72953002, 7.30963565, 8.80355446, 2.14077448, 7.00032763,\n",
       "       5.602761  , 5.40984923, 3.19539191, 7.51712191, 4.60317156,\n",
       "       2.36350377, 8.60878121, 4.49040004, 7.78943966, 3.36544584,\n",
       "       2.10628171, 1.78741579, 9.47229923, 7.61695393, 4.8386114 ,\n",
       "       4.62710749, 6.11940793, 7.4415396 , 6.37925825, 6.04843266,\n",
       "       8.26857511, 5.68858637, 8.3915897 , 5.94453388, 6.71461172,\n",
       "       1.33777312, 7.50241916])"
      ]
     },
     "execution_count": 116,
     "metadata": {},
     "output_type": "execute_result"
    }
   ],
   "source": [
    "Y_pred_train = mlr.predict(X_train)\n",
    "Y_pred_train"
   ]
  },
  {
   "cell_type": "code",
   "execution_count": 117,
   "id": "b9527753",
   "metadata": {},
   "outputs": [
    {
     "data": {
      "text/plain": [
       "0.9992218363017696"
      ]
     },
     "execution_count": 117,
     "metadata": {},
     "output_type": "execute_result"
    }
   ],
   "source": [
    "r2_score(Y_train, Y_pred_train)"
   ]
  },
  {
   "cell_type": "code",
   "execution_count": 118,
   "id": "45753af2",
   "metadata": {},
   "outputs": [
    {
     "data": {
      "image/png": "[encoded data removed]",
      "text/plain": [
       "<Figure size 432x288 with 1 Axes>"
      ]
     },
     "metadata": {
      "needs_background": "light"
     },
     "output_type": "display_data"
    }
   ],
   "source": [
    "plt.scatter(Y_train, Y_pred_train, color = 'blue')\n",
    "plt.xlabel('Actual')\n",
    "plt.ylabel('Predicted')\n",
    "plt.title('Actual VS Predicted')\n",
    "\n",
    "x = np.linspace(0, np.max(Y_train))\n",
    "plt.plot(x, x, color='red', linewidth = 3)\n",
    "\n",
    "plt.show()"
   ]
  },
  {
   "cell_type": "code",
   "execution_count": 119,
   "id": "df87a9b2",
   "metadata": {},
   "outputs": [
    {
     "data": {
      "text/plain": [
       "array([ 7.57741207, 10.00827751,  7.27619094,  5.27338735,  6.5982812 ,\n",
       "        2.88510156,  7.41985808,  5.06065554,  5.59558577,  7.05860897,\n",
       "        9.50360685,  9.02497916,  5.49936751])"
      ]
     },
     "execution_count": 119,
     "metadata": {},
     "output_type": "execute_result"
    }
   ],
   "source": [
    "Y_pred_test = mlr.predict(X_test)\n",
    "Y_pred_test"
   ]
  },
  {
   "cell_type": "code",
   "execution_count": 120,
   "id": "36bd6589",
   "metadata": {},
   "outputs": [
    {
     "data": {
      "image/png": "[encoded data removed]",
      "text/plain": [
       "<Figure size 432x288 with 1 Axes>"
      ]
     },
     "metadata": {
      "needs_background": "light"
     },
     "output_type": "display_data"
    }
   ],
   "source": [
    "plt.scatter(Y_test, Y_pred_test, color = 'blue')\n",
    "plt.xlabel('Actual')\n",
    "plt.ylabel('Predicted')\n",
    "plt.title('Actual VS Predicted')\n",
    "\n",
    "x = np.linspace(0, np.max(y_test))\n",
    "plt.plot(x, x, color='red', linewidth = 3)\n",
    "\n",
    "plt.show()"
   ]
  },
  {
   "cell_type": "code",
   "execution_count": 121,
   "id": "a4628b42",
   "metadata": {},
   "outputs": [
    {
     "data": {
      "text/plain": [
       "0.9983315615337198"
      ]
     },
     "execution_count": 121,
     "metadata": {},
     "output_type": "execute_result"
    }
   ],
   "source": [
    "r2_score(Y_test, Y_pred_test)"
   ]
  },
  {
   "cell_type": "code",
   "execution_count": 122,
   "id": "67a9c758",
   "metadata": {},
   "outputs": [
    {
     "data": {
      "text/html": [
       "<div>\n",
       "<style scoped>\n",
       "    .dataframe tbody tr th:only-of-type {\n",
       "        vertical-align: middle;\n",
       "    }\n",
       "\n",
       "    .dataframe tbody tr th {\n",
       "        vertical-align: top;\n",
       "    }\n",
       "\n",
       "    .dataframe thead th {\n",
       "        text-align: right;\n",
       "    }\n",
       "</style>\n",
       "<table border=\"1\" class=\"dataframe\">\n",
       "  <thead>\n",
       "    <tr style=\"text-align: right;\">\n",
       "      <th></th>\n",
       "      <th>Actual Value</th>\n",
       "      <th>Predicted Value</th>\n",
       "      <th>difference</th>\n",
       "    </tr>\n",
       "  </thead>\n",
       "  <tbody>\n",
       "    <tr>\n",
       "      <th>0</th>\n",
       "      <td>7.527839</td>\n",
       "      <td>7.577412</td>\n",
       "      <td>-0.049573</td>\n",
       "    </tr>\n",
       "    <tr>\n",
       "      <th>1</th>\n",
       "      <td>10.000000</td>\n",
       "      <td>10.008278</td>\n",
       "      <td>-0.008278</td>\n",
       "    </tr>\n",
       "    <tr>\n",
       "      <th>2</th>\n",
       "      <td>7.197859</td>\n",
       "      <td>7.276191</td>\n",
       "      <td>-0.078332</td>\n",
       "    </tr>\n",
       "    <tr>\n",
       "      <th>3</th>\n",
       "      <td>5.388891</td>\n",
       "      <td>5.273387</td>\n",
       "      <td>0.115504</td>\n",
       "    </tr>\n",
       "    <tr>\n",
       "      <th>4</th>\n",
       "      <td>6.661166</td>\n",
       "      <td>6.598281</td>\n",
       "      <td>0.062884</td>\n",
       "    </tr>\n",
       "    <tr>\n",
       "      <th>5</th>\n",
       "      <td>2.973335</td>\n",
       "      <td>2.885102</td>\n",
       "      <td>0.088233</td>\n",
       "    </tr>\n",
       "    <tr>\n",
       "      <th>6</th>\n",
       "      <td>7.348901</td>\n",
       "      <td>7.419858</td>\n",
       "      <td>-0.070957</td>\n",
       "    </tr>\n",
       "    <tr>\n",
       "      <th>7</th>\n",
       "      <td>5.153617</td>\n",
       "      <td>5.060656</td>\n",
       "      <td>0.092962</td>\n",
       "    </tr>\n",
       "    <tr>\n",
       "      <th>8</th>\n",
       "      <td>5.597138</td>\n",
       "      <td>5.595586</td>\n",
       "      <td>0.001553</td>\n",
       "    </tr>\n",
       "    <tr>\n",
       "      <th>9</th>\n",
       "      <td>7.046376</td>\n",
       "      <td>7.058609</td>\n",
       "      <td>-0.012233</td>\n",
       "    </tr>\n",
       "    <tr>\n",
       "      <th>10</th>\n",
       "      <td>9.481223</td>\n",
       "      <td>9.503607</td>\n",
       "      <td>-0.022383</td>\n",
       "    </tr>\n",
       "    <tr>\n",
       "      <th>11</th>\n",
       "      <td>9.133547</td>\n",
       "      <td>9.024979</td>\n",
       "      <td>0.108568</td>\n",
       "    </tr>\n",
       "    <tr>\n",
       "      <th>12</th>\n",
       "      <td>5.629729</td>\n",
       "      <td>5.499368</td>\n",
       "      <td>0.130362</td>\n",
       "    </tr>\n",
       "  </tbody>\n",
       "</table>\n",
       "</div>"
      ],
      "text/plain": [
       "    Actual Value  Predicted Value  difference\n",
       "0       7.527839         7.577412   -0.049573\n",
       "1      10.000000        10.008278   -0.008278\n",
       "2       7.197859         7.276191   -0.078332\n",
       "3       5.388891         5.273387    0.115504\n",
       "4       6.661166         6.598281    0.062884\n",
       "5       2.973335         2.885102    0.088233\n",
       "6       7.348901         7.419858   -0.070957\n",
       "7       5.153617         5.060656    0.092962\n",
       "8       5.597138         5.595586    0.001553\n",
       "9       7.046376         7.058609   -0.012233\n",
       "10      9.481223         9.503607   -0.022383\n",
       "11      9.133547         9.024979    0.108568\n",
       "12      5.629729         5.499368    0.130362"
      ]
     },
     "execution_count": 122,
     "metadata": {},
     "output_type": "execute_result"
    }
   ],
   "source": [
    "pred_df = pd.DataFrame({\n",
    "    'Actual Value': Y_test.ravel(),\n",
    "    'Predicted Value': Y_pred_test.ravel(),\n",
    "    'difference': (Y_test - Y_pred_test).ravel()\n",
    "})\n",
    "pred_df"
   ]
  },
  {
   "cell_type": "markdown",
   "id": "47ff2cdf",
   "metadata": {},
   "source": [
    "## b) Income"
   ]
  },
  {
   "cell_type": "code",
   "execution_count": 123,
   "id": "845357fe",
   "metadata": {},
   "outputs": [],
   "source": [
    "from sklearn.datasets import fetch_openml"
   ]
  },
  {
   "cell_type": "code",
   "execution_count": 124,
   "id": "6467793f",
   "metadata": {
    "scrolled": true
   },
   "outputs": [
    {
     "data": {
      "text/html": [
       "<div>\n",
       "<style scoped>\n",
       "    .dataframe tbody tr th:only-of-type {\n",
       "        vertical-align: middle;\n",
       "    }\n",
       "\n",
       "    .dataframe tbody tr th {\n",
       "        vertical-align: top;\n",
       "    }\n",
       "\n",
       "    .dataframe thead th {\n",
       "        text-align: right;\n",
       "    }\n",
       "</style>\n",
       "<table border=\"1\" class=\"dataframe\">\n",
       "  <thead>\n",
       "    <tr style=\"text-align: right;\">\n",
       "      <th></th>\n",
       "      <th>CRIM</th>\n",
       "      <th>ZN</th>\n",
       "      <th>INDUS</th>\n",
       "      <th>CHAS</th>\n",
       "      <th>NOX</th>\n",
       "      <th>RM</th>\n",
       "      <th>AGE</th>\n",
       "      <th>DIS</th>\n",
       "      <th>RAD</th>\n",
       "      <th>TAX</th>\n",
       "      <th>PTRATIO</th>\n",
       "      <th>B</th>\n",
       "      <th>LSTAT</th>\n",
       "    </tr>\n",
       "  </thead>\n",
       "  <tbody>\n",
       "    <tr>\n",
       "      <th>0</th>\n",
       "      <td>0.00632</td>\n",
       "      <td>18.0</td>\n",
       "      <td>2.31</td>\n",
       "      <td>0</td>\n",
       "      <td>0.538</td>\n",
       "      <td>6.575</td>\n",
       "      <td>65.2</td>\n",
       "      <td>4.0900</td>\n",
       "      <td>1</td>\n",
       "      <td>296.0</td>\n",
       "      <td>15.3</td>\n",
       "      <td>396.90</td>\n",
       "      <td>4.98</td>\n",
       "    </tr>\n",
       "    <tr>\n",
       "      <th>1</th>\n",
       "      <td>0.02731</td>\n",
       "      <td>0.0</td>\n",
       "      <td>7.07</td>\n",
       "      <td>0</td>\n",
       "      <td>0.469</td>\n",
       "      <td>6.421</td>\n",
       "      <td>78.9</td>\n",
       "      <td>4.9671</td>\n",
       "      <td>2</td>\n",
       "      <td>242.0</td>\n",
       "      <td>17.8</td>\n",
       "      <td>396.90</td>\n",
       "      <td>9.14</td>\n",
       "    </tr>\n",
       "    <tr>\n",
       "      <th>2</th>\n",
       "      <td>0.02729</td>\n",
       "      <td>0.0</td>\n",
       "      <td>7.07</td>\n",
       "      <td>0</td>\n",
       "      <td>0.469</td>\n",
       "      <td>7.185</td>\n",
       "      <td>61.1</td>\n",
       "      <td>4.9671</td>\n",
       "      <td>2</td>\n",
       "      <td>242.0</td>\n",
       "      <td>17.8</td>\n",
       "      <td>392.83</td>\n",
       "      <td>4.03</td>\n",
       "    </tr>\n",
       "    <tr>\n",
       "      <th>3</th>\n",
       "      <td>0.03237</td>\n",
       "      <td>0.0</td>\n",
       "      <td>2.18</td>\n",
       "      <td>0</td>\n",
       "      <td>0.458</td>\n",
       "      <td>6.998</td>\n",
       "      <td>45.8</td>\n",
       "      <td>6.0622</td>\n",
       "      <td>3</td>\n",
       "      <td>222.0</td>\n",
       "      <td>18.7</td>\n",
       "      <td>394.63</td>\n",
       "      <td>2.94</td>\n",
       "    </tr>\n",
       "    <tr>\n",
       "      <th>4</th>\n",
       "      <td>0.06905</td>\n",
       "      <td>0.0</td>\n",
       "      <td>2.18</td>\n",
       "      <td>0</td>\n",
       "      <td>0.458</td>\n",
       "      <td>7.147</td>\n",
       "      <td>54.2</td>\n",
       "      <td>6.0622</td>\n",
       "      <td>3</td>\n",
       "      <td>222.0</td>\n",
       "      <td>18.7</td>\n",
       "      <td>396.90</td>\n",
       "      <td>5.33</td>\n",
       "    </tr>\n",
       "    <tr>\n",
       "      <th>...</th>\n",
       "      <td>...</td>\n",
       "      <td>...</td>\n",
       "      <td>...</td>\n",
       "      <td>...</td>\n",
       "      <td>...</td>\n",
       "      <td>...</td>\n",
       "      <td>...</td>\n",
       "      <td>...</td>\n",
       "      <td>...</td>\n",
       "      <td>...</td>\n",
       "      <td>...</td>\n",
       "      <td>...</td>\n",
       "      <td>...</td>\n",
       "    </tr>\n",
       "    <tr>\n",
       "      <th>501</th>\n",
       "      <td>0.06263</td>\n",
       "      <td>0.0</td>\n",
       "      <td>11.93</td>\n",
       "      <td>0</td>\n",
       "      <td>0.573</td>\n",
       "      <td>6.593</td>\n",
       "      <td>69.1</td>\n",
       "      <td>2.4786</td>\n",
       "      <td>1</td>\n",
       "      <td>273.0</td>\n",
       "      <td>21.0</td>\n",
       "      <td>391.99</td>\n",
       "      <td>9.67</td>\n",
       "    </tr>\n",
       "    <tr>\n",
       "      <th>502</th>\n",
       "      <td>0.04527</td>\n",
       "      <td>0.0</td>\n",
       "      <td>11.93</td>\n",
       "      <td>0</td>\n",
       "      <td>0.573</td>\n",
       "      <td>6.120</td>\n",
       "      <td>76.7</td>\n",
       "      <td>2.2875</td>\n",
       "      <td>1</td>\n",
       "      <td>273.0</td>\n",
       "      <td>21.0</td>\n",
       "      <td>396.90</td>\n",
       "      <td>9.08</td>\n",
       "    </tr>\n",
       "    <tr>\n",
       "      <th>503</th>\n",
       "      <td>0.06076</td>\n",
       "      <td>0.0</td>\n",
       "      <td>11.93</td>\n",
       "      <td>0</td>\n",
       "      <td>0.573</td>\n",
       "      <td>6.976</td>\n",
       "      <td>91.0</td>\n",
       "      <td>2.1675</td>\n",
       "      <td>1</td>\n",
       "      <td>273.0</td>\n",
       "      <td>21.0</td>\n",
       "      <td>396.90</td>\n",
       "      <td>5.64</td>\n",
       "    </tr>\n",
       "    <tr>\n",
       "      <th>504</th>\n",
       "      <td>0.10959</td>\n",
       "      <td>0.0</td>\n",
       "      <td>11.93</td>\n",
       "      <td>0</td>\n",
       "      <td>0.573</td>\n",
       "      <td>6.794</td>\n",
       "      <td>89.3</td>\n",
       "      <td>2.3889</td>\n",
       "      <td>1</td>\n",
       "      <td>273.0</td>\n",
       "      <td>21.0</td>\n",
       "      <td>393.45</td>\n",
       "      <td>6.48</td>\n",
       "    </tr>\n",
       "    <tr>\n",
       "      <th>505</th>\n",
       "      <td>0.04741</td>\n",
       "      <td>0.0</td>\n",
       "      <td>11.93</td>\n",
       "      <td>0</td>\n",
       "      <td>0.573</td>\n",
       "      <td>6.030</td>\n",
       "      <td>80.8</td>\n",
       "      <td>2.5050</td>\n",
       "      <td>1</td>\n",
       "      <td>273.0</td>\n",
       "      <td>21.0</td>\n",
       "      <td>396.90</td>\n",
       "      <td>7.88</td>\n",
       "    </tr>\n",
       "  </tbody>\n",
       "</table>\n",
       "<p>506 rows × 13 columns</p>\n",
       "</div>"
      ],
      "text/plain": [
       "        CRIM    ZN  INDUS  CHAS    NOX     RM   AGE     DIS  RAD    TAX  \\\n",
       "0    0.00632  18.0   2.31     0  0.538  6.575  65.2  4.0900    1  296.0   \n",
       "1    0.02731   0.0   7.07     0  0.469  6.421  78.9  4.9671    2  242.0   \n",
       "2    0.02729   0.0   7.07     0  0.469  7.185  61.1  4.9671    2  242.0   \n",
       "3    0.03237   0.0   2.18     0  0.458  6.998  45.8  6.0622    3  222.0   \n",
       "4    0.06905   0.0   2.18     0  0.458  7.147  54.2  6.0622    3  222.0   \n",
       "..       ...   ...    ...   ...    ...    ...   ...     ...  ...    ...   \n",
       "501  0.06263   0.0  11.93     0  0.573  6.593  69.1  2.4786    1  273.0   \n",
       "502  0.04527   0.0  11.93     0  0.573  6.120  76.7  2.2875    1  273.0   \n",
       "503  0.06076   0.0  11.93     0  0.573  6.976  91.0  2.1675    1  273.0   \n",
       "504  0.10959   0.0  11.93     0  0.573  6.794  89.3  2.3889    1  273.0   \n",
       "505  0.04741   0.0  11.93     0  0.573  6.030  80.8  2.5050    1  273.0   \n",
       "\n",
       "     PTRATIO       B  LSTAT  \n",
       "0       15.3  396.90   4.98  \n",
       "1       17.8  396.90   9.14  \n",
       "2       17.8  392.83   4.03  \n",
       "3       18.7  394.63   2.94  \n",
       "4       18.7  396.90   5.33  \n",
       "..       ...     ...    ...  \n",
       "501     21.0  391.99   9.67  \n",
       "502     21.0  396.90   9.08  \n",
       "503     21.0  396.90   5.64  \n",
       "504     21.0  393.45   6.48  \n",
       "505     21.0  396.90   7.88  \n",
       "\n",
       "[506 rows x 13 columns]"
      ]
     },
     "execution_count": 124,
     "metadata": {},
     "output_type": "execute_result"
    }
   ],
   "source": [
    "boston = fetch_openml(data_id=531)\n",
    "\n",
    "data = pd.DataFrame(boston.data, columns=boston.feature_names)\n",
    "data['MEDV'] = boston.target\n",
    "\n",
    "data = data.apply(pd.to_numeric)\n",
    "\n",
    "X = data.drop('MEDV', axis=1)\n",
    "y = data['MEDV']\n",
    "\n",
    "X_train, X_test, y_train, y_test = train_test_split(X, y, test_size=0.3, random_state=0)\n",
    "\n",
    "X"
   ]
  },
  {
   "cell_type": "code",
   "execution_count": 125,
   "id": "0d2708b4",
   "metadata": {},
   "outputs": [
    {
     "data": {
      "text/plain": [
       "LinearRegression()"
      ]
     },
     "execution_count": 125,
     "metadata": {},
     "output_type": "execute_result"
    }
   ],
   "source": [
    "mlr = LinearRegression()\n",
    "mlr.fit(X_train, y_train)"
   ]
  },
  {
   "cell_type": "code",
   "execution_count": 126,
   "id": "9e225df2",
   "metadata": {},
   "outputs": [
    {
     "data": {
      "text/plain": [
       "array([-1.21310401e-01,  4.44664254e-02,  1.13416945e-02,  2.51124642e+00,\n",
       "       -1.62312529e+01,  3.85906801e+00, -9.98516565e-03, -1.50026956e+00,\n",
       "        2.42143466e-01, -1.10716124e-02, -1.01775264e+00,  6.81446545e-03,\n",
       "       -4.86738066e-01])"
      ]
     },
     "execution_count": 126,
     "metadata": {},
     "output_type": "execute_result"
    }
   ],
   "source": [
    "m = mlr.coef_\n",
    "m"
   ]
  },
  {
   "cell_type": "code",
   "execution_count": 127,
   "id": "26ed3d53",
   "metadata": {},
   "outputs": [
    {
     "data": {
      "text/plain": [
       "37.937107741832875"
      ]
     },
     "execution_count": 127,
     "metadata": {},
     "output_type": "execute_result"
    }
   ],
   "source": [
    "c = mlr.intercept_\n",
    "c"
   ]
  },
  {
   "cell_type": "code",
   "execution_count": 128,
   "id": "e07b5efd",
   "metadata": {},
   "outputs": [],
   "source": [
    "y_pred_train = mlr.predict(X_train)"
   ]
  },
  {
   "cell_type": "code",
   "execution_count": 129,
   "id": "81627eee",
   "metadata": {},
   "outputs": [
    {
     "data": {
      "text/plain": [
       "0.7645451026942549"
      ]
     },
     "execution_count": 129,
     "metadata": {},
     "output_type": "execute_result"
    }
   ],
   "source": [
    "r2_score(y_train, y_pred_train)"
   ]
  },
  {
   "cell_type": "code",
   "execution_count": 130,
   "id": "f3dc5046",
   "metadata": {},
   "outputs": [
    {
     "data": {
      "image/png": "[encoded data removed]",
      "text/plain": [
       "<Figure size 432x288 with 1 Axes>"
      ]
     },
     "metadata": {
      "needs_background": "light"
     },
     "output_type": "display_data"
    }
   ],
   "source": [
    "plt.scatter(y_train, y_pred_train, color = 'blue')\n",
    "plt.xlabel('Actual')\n",
    "plt.ylabel('Predicted')\n",
    "plt.title('Actual VS Predicted')\n",
    "x = np.linspace(0, np.max(y_train))\n",
    "plt.plot(x, x, color='red', linewidth = 3)\n",
    "plt.show()"
   ]
  },
  {
   "cell_type": "code",
   "execution_count": 131,
   "id": "74090c7d",
   "metadata": {},
   "outputs": [],
   "source": [
    "y_pred_test = mlr.predict(X_test)"
   ]
  },
  {
   "cell_type": "code",
   "execution_count": 132,
   "id": "8f24f42d",
   "metadata": {},
   "outputs": [
    {
     "data": {
      "image/png": "[encoded data removed]",
      "text/plain": [
       "<Figure size 432x288 with 1 Axes>"
      ]
     },
     "metadata": {
      "needs_background": "light"
     },
     "output_type": "display_data"
    }
   ],
   "source": [
    "plt.scatter(y_test, y_pred_test, color = 'blue')\n",
    "plt.xlabel('Actual')\n",
    "plt.ylabel('Predicted')\n",
    "plt.title('Actual VS Predicted')\n",
    "x = np.linspace(0, np.max(y_test))\n",
    "plt.plot(x, x, color='red', linewidth = 3)\n",
    "plt.show()"
   ]
  },
  {
   "cell_type": "code",
   "execution_count": 133,
   "id": "4a069b26",
   "metadata": {},
   "outputs": [
    {
     "data": {
      "text/plain": [
       "0.6733825506400191"
      ]
     },
     "execution_count": 133,
     "metadata": {},
     "output_type": "execute_result"
    }
   ],
   "source": [
    "r2_score(y_test, y_pred_test)"
   ]
  },
  {
   "cell_type": "code",
   "execution_count": 134,
   "id": "efedd4e8",
   "metadata": {},
   "outputs": [
    {
     "data": {
      "text/plain": [
       "3.609904060381821"
      ]
     },
     "execution_count": 134,
     "metadata": {},
     "output_type": "execute_result"
    }
   ],
   "source": [
    "mae = mean_absolute_error(y_test, y_pred_test)\n",
    "mae"
   ]
  },
  {
   "cell_type": "code",
   "execution_count": 135,
   "id": "ae3bbaa5",
   "metadata": {},
   "outputs": [
    {
     "data": {
      "text/plain": [
       "27.195965766883248"
      ]
     },
     "execution_count": 135,
     "metadata": {},
     "output_type": "execute_result"
    }
   ],
   "source": [
    "mse = mean_squared_error(y_test, y_pred_test)\n",
    "mse"
   ]
  },
  {
   "cell_type": "code",
   "execution_count": 136,
   "id": "42466f2c",
   "metadata": {},
   "outputs": [
    {
     "data": {
      "text/plain": [
       "8788.350994133656"
      ]
     },
     "execution_count": 136,
     "metadata": {},
     "output_type": "execute_result"
    }
   ],
   "source": [
    "ssr = np.sum((y_pred_test - y_test.mean())**2)\n",
    "ssr"
   ]
  },
  {
   "cell_type": "code",
   "execution_count": 137,
   "id": "3b894652",
   "metadata": {},
   "outputs": [
    {
     "data": {
      "text/html": [
       "<div>\n",
       "<style scoped>\n",
       "    .dataframe tbody tr th:only-of-type {\n",
       "        vertical-align: middle;\n",
       "    }\n",
       "\n",
       "    .dataframe tbody tr th {\n",
       "        vertical-align: top;\n",
       "    }\n",
       "\n",
       "    .dataframe thead th {\n",
       "        text-align: right;\n",
       "    }\n",
       "</style>\n",
       "<table border=\"1\" class=\"dataframe\">\n",
       "  <thead>\n",
       "    <tr style=\"text-align: right;\">\n",
       "      <th></th>\n",
       "      <th>Actual Value</th>\n",
       "      <th>Predicted Value</th>\n",
       "      <th>difference</th>\n",
       "    </tr>\n",
       "  </thead>\n",
       "  <tbody>\n",
       "    <tr>\n",
       "      <th>0</th>\n",
       "      <td>7.527839</td>\n",
       "      <td>7.577412</td>\n",
       "      <td>-0.049573</td>\n",
       "    </tr>\n",
       "    <tr>\n",
       "      <th>1</th>\n",
       "      <td>10.000000</td>\n",
       "      <td>10.008278</td>\n",
       "      <td>-0.008278</td>\n",
       "    </tr>\n",
       "    <tr>\n",
       "      <th>2</th>\n",
       "      <td>7.197859</td>\n",
       "      <td>7.276191</td>\n",
       "      <td>-0.078332</td>\n",
       "    </tr>\n",
       "    <tr>\n",
       "      <th>3</th>\n",
       "      <td>5.388891</td>\n",
       "      <td>5.273387</td>\n",
       "      <td>0.115504</td>\n",
       "    </tr>\n",
       "    <tr>\n",
       "      <th>4</th>\n",
       "      <td>6.661166</td>\n",
       "      <td>6.598281</td>\n",
       "      <td>0.062884</td>\n",
       "    </tr>\n",
       "    <tr>\n",
       "      <th>5</th>\n",
       "      <td>2.973335</td>\n",
       "      <td>2.885102</td>\n",
       "      <td>0.088233</td>\n",
       "    </tr>\n",
       "    <tr>\n",
       "      <th>6</th>\n",
       "      <td>7.348901</td>\n",
       "      <td>7.419858</td>\n",
       "      <td>-0.070957</td>\n",
       "    </tr>\n",
       "    <tr>\n",
       "      <th>7</th>\n",
       "      <td>5.153617</td>\n",
       "      <td>5.060656</td>\n",
       "      <td>0.092962</td>\n",
       "    </tr>\n",
       "    <tr>\n",
       "      <th>8</th>\n",
       "      <td>5.597138</td>\n",
       "      <td>5.595586</td>\n",
       "      <td>0.001553</td>\n",
       "    </tr>\n",
       "    <tr>\n",
       "      <th>9</th>\n",
       "      <td>7.046376</td>\n",
       "      <td>7.058609</td>\n",
       "      <td>-0.012233</td>\n",
       "    </tr>\n",
       "    <tr>\n",
       "      <th>10</th>\n",
       "      <td>9.481223</td>\n",
       "      <td>9.503607</td>\n",
       "      <td>-0.022383</td>\n",
       "    </tr>\n",
       "    <tr>\n",
       "      <th>11</th>\n",
       "      <td>9.133547</td>\n",
       "      <td>9.024979</td>\n",
       "      <td>0.108568</td>\n",
       "    </tr>\n",
       "    <tr>\n",
       "      <th>12</th>\n",
       "      <td>5.629729</td>\n",
       "      <td>5.499368</td>\n",
       "      <td>0.130362</td>\n",
       "    </tr>\n",
       "  </tbody>\n",
       "</table>\n",
       "</div>"
      ],
      "text/plain": [
       "    Actual Value  Predicted Value  difference\n",
       "0       7.527839         7.577412   -0.049573\n",
       "1      10.000000        10.008278   -0.008278\n",
       "2       7.197859         7.276191   -0.078332\n",
       "3       5.388891         5.273387    0.115504\n",
       "4       6.661166         6.598281    0.062884\n",
       "5       2.973335         2.885102    0.088233\n",
       "6       7.348901         7.419858   -0.070957\n",
       "7       5.153617         5.060656    0.092962\n",
       "8       5.597138         5.595586    0.001553\n",
       "9       7.046376         7.058609   -0.012233\n",
       "10      9.481223         9.503607   -0.022383\n",
       "11      9.133547         9.024979    0.108568\n",
       "12      5.629729         5.499368    0.130362"
      ]
     },
     "execution_count": 137,
     "metadata": {},
     "output_type": "execute_result"
    }
   ],
   "source": [
    "pred_df = pd.DataFrame({\n",
    "    'Actual Value': Y_test.ravel(),\n",
    "    'Predicted Value': Y_pred_test.ravel(),\n",
    "    'difference': (Y_test - Y_pred_test).ravel()\n",
    "})\n",
    "pred_df"
   ]
  }
 ],
 "metadata": {
  "kernelspec": {
   "display_name": "Python 3 (ipykernel)",
   "language": "python",
   "name": "python3"
  },
  "language_info": {
   "codemirror_mode": {
    "name": "ipython",
    "version": 3
   },
   "file_extension": ".py",
   "mimetype": "text/x-python",
   "name": "python",
   "nbconvert_exporter": "python",
   "pygments_lexer": "ipython3",
   "version": "3.9.12"
  }
 },
 "nbformat": 4,
 "nbformat_minor": 5
}
