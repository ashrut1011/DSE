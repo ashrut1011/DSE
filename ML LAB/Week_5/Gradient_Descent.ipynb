{
 "cells": [
  {
   "cell_type": "code",
   "execution_count": 15,
   "id": "2363027f",
   "metadata": {},
   "outputs": [],
   "source": [
    "import numpy as np\n",
    "import matplotlib.pyplot as plt"
   ]
  },
  {
   "cell_type": "code",
   "execution_count": 16,
   "id": "4e501f35",
   "metadata": {},
   "outputs": [],
   "source": [
    "def gradient_descent(X, y, theta, alpha, num_iters):\n",
    "    m = len(y)\n",
    "    J_history = np.zeros((num_iters, 1))\n",
    "\n",
    "    for i in range(num_iters):\n",
    "        h = X.dot(theta)\n",
    "        theta = theta - alpha * (1/m) * X.T.dot(h - y)\n",
    "        J_history[i] = (1/(2*m)) * np.sum((h - y)**2)\n",
    "\n",
    "    return theta, J_history"
   ]
  },
  {
   "cell_type": "code",
   "execution_count": 17,
   "id": "168554a6",
   "metadata": {},
   "outputs": [
    {
     "name": "stdout",
     "output_type": "stream",
     "text": [
      "Final parameter values:\n",
      "[[4.21509609]\n",
      " [2.77011344]]\n"
     ]
    },
    {
     "data": {
      "image/png": "[encoded data removed]",
      "text/plain": [
       "<Figure size 432x288 with 1 Axes>"
      ]
     },
     "metadata": {
      "needs_background": "light"
     },
     "output_type": "display_data"
    }
   ],
   "source": [
    "# Generate random input and output data\n",
    "np.random.seed(42)\n",
    "X = 2 * np.random.rand(100, 1)\n",
    "y = 4 + 3 * X + np.random.randn(100, 1)\n",
    "\n",
    "# Add bias term to input data\n",
    "X_b = np.c_[np.ones((100, 1)), X]\n",
    "\n",
    "# Set hyperparameters\n",
    "alpha = 0.1\n",
    "num_iters = 1000\n",
    "\n",
    "# Initialize parameter values\n",
    "theta = np.random.randn(2, 1)\n",
    "\n",
    "# Run gradient descent\n",
    "theta, J_history = gradient_descent(X_b, y, theta, alpha, num_iters)\n",
    "\n",
    "# Print final parameter values\n",
    "print(\"Final parameter values:\")\n",
    "print(theta)\n",
    "\n",
    "# Plot cost function vs. number of iterations\n",
    "plt.plot(range(num_iters), J_history)\n",
    "plt.xlabel(\"Number of iterations\")\n",
    "plt.ylabel(\"Cost function\")\n",
    "plt.show()\n"
   ]
  }
 ],
 "metadata": {
  "kernelspec": {
   "display_name": "Python 3 (ipykernel)",
   "language": "python",
   "name": "python3"
  },
  "language_info": {
   "codemirror_mode": {
    "name": "ipython",
    "version": 3
   },
   "file_extension": ".py",
   "mimetype": "text/x-python",
   "name": "python",
   "nbconvert_exporter": "python",
   "pygments_lexer": "ipython3",
   "version": "3.9.12"
  }
 },
 "nbformat": 4,
 "nbformat_minor": 5
}
